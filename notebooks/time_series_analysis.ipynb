{
 "cells": [
  {
   "cell_type": "markdown",
   "id": "7adc7398",
   "metadata": {},
   "source": [
    "# Import libraries"
   ]
  },
  {
   "cell_type": "code",
   "execution_count": 68,
   "id": "initial_id",
   "metadata": {
    "ExecuteTime": {
     "end_time": "2025-07-12T09:47:32.902956Z",
     "start_time": "2025-07-12T09:47:32.900243Z"
    },
    "collapsed": true
   },
   "outputs": [],
   "source": [
    "import json\n",
    "import pandas as pd\n",
    "import matplotlib.pyplot as plt"
   ]
  },
  {
   "cell_type": "markdown",
   "id": "dd8ed21f",
   "metadata": {},
   "source": [
    "# Load prediction file"
   ]
  },
  {
   "cell_type": "code",
   "execution_count": 69,
   "id": "a2592e0f",
   "metadata": {},
   "outputs": [],
   "source": [
    "with open(\"../exps/thumos/actionformer_i3d/result_detection.json\", \"r\") as f:\n",
    "  predictions = json.load(f)"
   ]
  },
  {
   "cell_type": "code",
   "execution_count": 70,
   "id": "444a740c",
   "metadata": {},
   "outputs": [
    {
     "data": {
      "application/vnd.microsoft.datawrangler.viewer.v0+json": {
       "columns": [
        {
         "name": "index",
         "rawType": "int64",
         "type": "integer"
        },
        {
         "name": "video_id",
         "rawType": "object",
         "type": "string"
        },
        {
         "name": "start",
         "rawType": "float64",
         "type": "float"
        },
        {
         "name": "end",
         "rawType": "float64",
         "type": "float"
        },
        {
         "name": "label",
         "rawType": "object",
         "type": "string"
        },
        {
         "name": "score",
         "rawType": "float64",
         "type": "float"
        }
       ],
       "ref": "24173783-9e63-490d-a54f-9640300fecff",
       "rows": [
        [
         "0",
         "video_test_0000004",
         "0.57",
         "1.61",
         "CricketShot",
         "0.5349"
        ],
        [
         "1",
         "video_test_0000004",
         "20.6",
         "21.86",
         "CricketShot",
         "0.5166"
        ],
        [
         "2",
         "video_test_0000004",
         "0.35",
         "1.07",
         "CricketBowling",
         "0.4968"
        ],
        [
         "3",
         "video_test_0000004",
         "30.85",
         "32.79",
         "CricketShot",
         "0.3264"
        ],
        [
         "4",
         "video_test_0000004",
         "21.35",
         "22.03",
         "CricketShot",
         "0.3038"
        ]
       ],
       "shape": {
        "columns": 5,
        "rows": 5
       }
      },
      "text/html": [
       "<div>\n",
       "<style scoped>\n",
       "    .dataframe tbody tr th:only-of-type {\n",
       "        vertical-align: middle;\n",
       "    }\n",
       "\n",
       "    .dataframe tbody tr th {\n",
       "        vertical-align: top;\n",
       "    }\n",
       "\n",
       "    .dataframe thead th {\n",
       "        text-align: right;\n",
       "    }\n",
       "</style>\n",
       "<table border=\"1\" class=\"dataframe\">\n",
       "  <thead>\n",
       "    <tr style=\"text-align: right;\">\n",
       "      <th></th>\n",
       "      <th>video_id</th>\n",
       "      <th>start</th>\n",
       "      <th>end</th>\n",
       "      <th>label</th>\n",
       "      <th>score</th>\n",
       "    </tr>\n",
       "  </thead>\n",
       "  <tbody>\n",
       "    <tr>\n",
       "      <th>0</th>\n",
       "      <td>video_test_0000004</td>\n",
       "      <td>0.57</td>\n",
       "      <td>1.61</td>\n",
       "      <td>CricketShot</td>\n",
       "      <td>0.5349</td>\n",
       "    </tr>\n",
       "    <tr>\n",
       "      <th>1</th>\n",
       "      <td>video_test_0000004</td>\n",
       "      <td>20.60</td>\n",
       "      <td>21.86</td>\n",
       "      <td>CricketShot</td>\n",
       "      <td>0.5166</td>\n",
       "    </tr>\n",
       "    <tr>\n",
       "      <th>2</th>\n",
       "      <td>video_test_0000004</td>\n",
       "      <td>0.35</td>\n",
       "      <td>1.07</td>\n",
       "      <td>CricketBowling</td>\n",
       "      <td>0.4968</td>\n",
       "    </tr>\n",
       "    <tr>\n",
       "      <th>3</th>\n",
       "      <td>video_test_0000004</td>\n",
       "      <td>30.85</td>\n",
       "      <td>32.79</td>\n",
       "      <td>CricketShot</td>\n",
       "      <td>0.3264</td>\n",
       "    </tr>\n",
       "    <tr>\n",
       "      <th>4</th>\n",
       "      <td>video_test_0000004</td>\n",
       "      <td>21.35</td>\n",
       "      <td>22.03</td>\n",
       "      <td>CricketShot</td>\n",
       "      <td>0.3038</td>\n",
       "    </tr>\n",
       "  </tbody>\n",
       "</table>\n",
       "</div>"
      ],
      "text/plain": [
       "             video_id  start    end           label   score\n",
       "0  video_test_0000004   0.57   1.61     CricketShot  0.5349\n",
       "1  video_test_0000004  20.60  21.86     CricketShot  0.5166\n",
       "2  video_test_0000004   0.35   1.07  CricketBowling  0.4968\n",
       "3  video_test_0000004  30.85  32.79     CricketShot  0.3264\n",
       "4  video_test_0000004  21.35  22.03     CricketShot  0.3038"
      ]
     },
     "execution_count": 70,
     "metadata": {},
     "output_type": "execute_result"
    }
   ],
   "source": [
    "rows_predictions = []\n",
    "for video_id, segments in predictions['results'].items():\n",
    "  for s in segments:\n",
    "    rows_predictions.append({\n",
    "      'video_id': video_id,\n",
    "      'start': s['segment'][0],\n",
    "      'end': s['segment'][1],\n",
    "      'label': s['label'],\n",
    "      'score': s['score']\n",
    "    })\n",
    "  \n",
    "predictions_df = pd.DataFrame(rows_predictions)\n",
    "predictions_df.head()"
   ]
  },
  {
   "cell_type": "markdown",
   "id": "f14663dc",
   "metadata": {},
   "source": [
    "# Load ground truth"
   ]
  },
  {
   "cell_type": "code",
   "execution_count": 71,
   "id": "5a293d9f",
   "metadata": {},
   "outputs": [],
   "source": [
    "with open('../data/annotations/thumos_14_anno.json', 'r') as f:\n",
    "  gt = json.load(f)"
   ]
  },
  {
   "cell_type": "code",
   "execution_count": 72,
   "id": "8de7e874",
   "metadata": {},
   "outputs": [
    {
     "data": {
      "application/vnd.microsoft.datawrangler.viewer.v0+json": {
       "columns": [
        {
         "name": "index",
         "rawType": "int64",
         "type": "integer"
        },
        {
         "name": "video_id",
         "rawType": "object",
         "type": "string"
        },
        {
         "name": "start",
         "rawType": "float64",
         "type": "float"
        },
        {
         "name": "end",
         "rawType": "float64",
         "type": "float"
        },
        {
         "name": "label",
         "rawType": "object",
         "type": "string"
        }
       ],
       "ref": "19d4e9b8-953a-407d-a8ac-65328a5797ab",
       "rows": [
        [
         "0",
         "video_validation_0000051",
         "67.5",
         "75.9",
         "Billiards"
        ],
        [
         "1",
         "video_validation_0000051",
         "85.9",
         "90.6",
         "Billiards"
        ],
        [
         "2",
         "video_validation_0000051",
         "139.3",
         "148.2",
         "Billiards"
        ],
        [
         "3",
         "video_validation_0000052",
         "24.3",
         "24.8",
         "Billiards"
        ],
        [
         "4",
         "video_validation_0000053",
         "9.1",
         "13.8",
         "Billiards"
        ]
       ],
       "shape": {
        "columns": 4,
        "rows": 5
       }
      },
      "text/html": [
       "<div>\n",
       "<style scoped>\n",
       "    .dataframe tbody tr th:only-of-type {\n",
       "        vertical-align: middle;\n",
       "    }\n",
       "\n",
       "    .dataframe tbody tr th {\n",
       "        vertical-align: top;\n",
       "    }\n",
       "\n",
       "    .dataframe thead th {\n",
       "        text-align: right;\n",
       "    }\n",
       "</style>\n",
       "<table border=\"1\" class=\"dataframe\">\n",
       "  <thead>\n",
       "    <tr style=\"text-align: right;\">\n",
       "      <th></th>\n",
       "      <th>video_id</th>\n",
       "      <th>start</th>\n",
       "      <th>end</th>\n",
       "      <th>label</th>\n",
       "    </tr>\n",
       "  </thead>\n",
       "  <tbody>\n",
       "    <tr>\n",
       "      <th>0</th>\n",
       "      <td>video_validation_0000051</td>\n",
       "      <td>67.5</td>\n",
       "      <td>75.9</td>\n",
       "      <td>Billiards</td>\n",
       "    </tr>\n",
       "    <tr>\n",
       "      <th>1</th>\n",
       "      <td>video_validation_0000051</td>\n",
       "      <td>85.9</td>\n",
       "      <td>90.6</td>\n",
       "      <td>Billiards</td>\n",
       "    </tr>\n",
       "    <tr>\n",
       "      <th>2</th>\n",
       "      <td>video_validation_0000051</td>\n",
       "      <td>139.3</td>\n",
       "      <td>148.2</td>\n",
       "      <td>Billiards</td>\n",
       "    </tr>\n",
       "    <tr>\n",
       "      <th>3</th>\n",
       "      <td>video_validation_0000052</td>\n",
       "      <td>24.3</td>\n",
       "      <td>24.8</td>\n",
       "      <td>Billiards</td>\n",
       "    </tr>\n",
       "    <tr>\n",
       "      <th>4</th>\n",
       "      <td>video_validation_0000053</td>\n",
       "      <td>9.1</td>\n",
       "      <td>13.8</td>\n",
       "      <td>Billiards</td>\n",
       "    </tr>\n",
       "  </tbody>\n",
       "</table>\n",
       "</div>"
      ],
      "text/plain": [
       "                   video_id  start    end      label\n",
       "0  video_validation_0000051   67.5   75.9  Billiards\n",
       "1  video_validation_0000051   85.9   90.6  Billiards\n",
       "2  video_validation_0000051  139.3  148.2  Billiards\n",
       "3  video_validation_0000052   24.3   24.8  Billiards\n",
       "4  video_validation_0000053    9.1   13.8  Billiards"
      ]
     },
     "execution_count": 72,
     "metadata": {},
     "output_type": "execute_result"
    }
   ],
   "source": [
    "rows_gt = []\n",
    "for video_id, info in gt['database'].items():\n",
    "  for s in info['annotations']:\n",
    "    rows_gt.append({\n",
    "      'video_id': video_id,\n",
    "      'start': s['segment'][0],\n",
    "      'end': s['segment'][1],\n",
    "      'label': s['label']\n",
    "    })\n",
    "\n",
    "gt_df = pd.DataFrame(rows_gt)\n",
    "gt_df.head()"
   ]
  },
  {
   "cell_type": "code",
   "execution_count": 73,
   "id": "62fb236e",
   "metadata": {},
   "outputs": [
    {
     "data": {
      "text/plain": [
       "(411,)"
      ]
     },
     "execution_count": 73,
     "metadata": {},
     "output_type": "execute_result"
    }
   ],
   "source": [
    "gt_df['video_id'].unique().shape"
   ]
  },
  {
   "cell_type": "markdown",
   "id": "05d9126e",
   "metadata": {},
   "source": [
    "# Plot"
   ]
  },
  {
   "cell_type": "code",
   "execution_count": 90,
   "id": "54a12ea0",
   "metadata": {},
   "outputs": [
    {
     "data": {
      "image/png": "[encoded data removed]",
      "text/plain": [
       "<Figure size 1200x600 with 2 Axes>"
      ]
     },
     "metadata": {},
     "output_type": "display_data"
    }
   ],
   "source": [
    "# Filter expected segments associated with a video\n",
    "confidence_threshold = 0.2\n",
    "predicted_video = predictions_df[(predictions_df['video_id'] == \"video_test_0000004\") & (predictions_df['score'] > confidence_threshold)]\n",
    "# Filter expected segments associated with a video\n",
    "video = gt_df[gt_df['video_id'] == \"video_test_0000004\"]\n",
    "\n",
    "# Plot prediction for the video\n",
    "fig, ax = plt.subplots(2, 1, figsize=(12, 6))\n",
    "\n",
    "for _, row in predicted_video.iterrows():\n",
    "  ax[0].plot([row['start'], row['end']], [row['label']] * 2)\n",
    "ax[0].set_title('Prediction') \n",
    "  \n",
    "for _, row in video.iterrows():\n",
    "  ax[1].plot([row['start'], row['end']], [row['label']] * 2)\n",
    "ax[1].set_title('Ground Truth')\n",
    "\n",
    "plt.xlabel('Second')\n",
    "plt.tight_layout()\n",
    "plt.show()"
   ]
  }
 ],
 "metadata": {
  "kernelspec": {
   "display_name": "study",
   "language": "python",
   "name": "python3"
  },
  "language_info": {
   "codemirror_mode": {
    "name": "ipython",
    "version": 3
   },
   "file_extension": ".py",
   "mimetype": "text/x-python",
   "name": "python",
   "nbconvert_exporter": "python",
   "pygments_lexer": "ipython3",
   "version": "3.12.7"
  }
 },
 "nbformat": 4,
 "nbformat_minor": 5
}
